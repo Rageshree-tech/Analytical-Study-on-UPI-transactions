{
 "cells": [
  {
   "cell_type": "code",
   "execution_count": 1,
   "id": "61d97511",
   "metadata": {},
   "outputs": [],
   "source": [
    "import numpy as np\n",
    "import pandas as pd"
   ]
  },
  {
   "cell_type": "code",
   "execution_count": 2,
   "id": "a36f6378",
   "metadata": {},
   "outputs": [],
   "source": [
    "d21 = pd.read_csv('UPI apps transaction data in 2021.csv')\n",
    "d22 = pd.read_csv('UPI apps transaction data in 2022 - in 2022.csv')"
   ]
  },
  {
   "cell_type": "code",
   "execution_count": 3,
   "id": "a2e18b20",
   "metadata": {},
   "outputs": [
    {
     "data": {
      "text/html": [
       "<div>\n",
       "<style scoped>\n",
       "    .dataframe tbody tr th:only-of-type {\n",
       "        vertical-align: middle;\n",
       "    }\n",
       "\n",
       "    .dataframe tbody tr th {\n",
       "        vertical-align: top;\n",
       "    }\n",
       "\n",
       "    .dataframe thead th {\n",
       "        text-align: right;\n",
       "    }\n",
       "</style>\n",
       "<table border=\"1\" class=\"dataframe\">\n",
       "  <thead>\n",
       "    <tr style=\"text-align: right;\">\n",
       "      <th></th>\n",
       "      <th>UPI Banks</th>\n",
       "      <th>Volume (Mn) By Costumers</th>\n",
       "      <th>Value (Cr) by Costumers</th>\n",
       "      <th>Volume (Mn)</th>\n",
       "      <th>Value (Cr)</th>\n",
       "      <th>Month</th>\n",
       "      <th>Year</th>\n",
       "    </tr>\n",
       "  </thead>\n",
       "  <tbody>\n",
       "    <tr>\n",
       "      <th>0</th>\n",
       "      <td>Airtel Payments Bank Apps</td>\n",
       "      <td>9.04</td>\n",
       "      <td>2248.49</td>\n",
       "      <td>15.12</td>\n",
       "      <td>5732.09</td>\n",
       "      <td>12</td>\n",
       "      <td>2021</td>\n",
       "    </tr>\n",
       "    <tr>\n",
       "      <th>1</th>\n",
       "      <td>Airtel Payments Bank Apps</td>\n",
       "      <td>8.41</td>\n",
       "      <td>1923.95</td>\n",
       "      <td>15.90</td>\n",
       "      <td>5554.63</td>\n",
       "      <td>11</td>\n",
       "      <td>2021</td>\n",
       "    </tr>\n",
       "    <tr>\n",
       "      <th>2</th>\n",
       "      <td>Airtel Payments Bank Apps</td>\n",
       "      <td>7.60</td>\n",
       "      <td>1491.34</td>\n",
       "      <td>14.31</td>\n",
       "      <td>4746.79</td>\n",
       "      <td>10</td>\n",
       "      <td>2021</td>\n",
       "    </tr>\n",
       "    <tr>\n",
       "      <th>3</th>\n",
       "      <td>Airtel Payments Bank Apps</td>\n",
       "      <td>6.91</td>\n",
       "      <td>1520.92</td>\n",
       "      <td>11.52</td>\n",
       "      <td>3759.12</td>\n",
       "      <td>9</td>\n",
       "      <td>2021</td>\n",
       "    </tr>\n",
       "    <tr>\n",
       "      <th>4</th>\n",
       "      <td>Airtel Payments Bank Apps</td>\n",
       "      <td>6.14</td>\n",
       "      <td>1396.65</td>\n",
       "      <td>9.31</td>\n",
       "      <td>2941.88</td>\n",
       "      <td>8</td>\n",
       "      <td>2021</td>\n",
       "    </tr>\n",
       "  </tbody>\n",
       "</table>\n",
       "</div>"
      ],
      "text/plain": [
       "                   UPI Banks  Volume (Mn) By Costumers  \\\n",
       "0  Airtel Payments Bank Apps                      9.04   \n",
       "1  Airtel Payments Bank Apps                      8.41   \n",
       "2  Airtel Payments Bank Apps                      7.60   \n",
       "3  Airtel Payments Bank Apps                      6.91   \n",
       "4  Airtel Payments Bank Apps                      6.14   \n",
       "\n",
       "   Value (Cr) by Costumers  Volume (Mn)  Value (Cr)  Month  Year  \n",
       "0                  2248.49        15.12     5732.09     12  2021  \n",
       "1                  1923.95        15.90     5554.63     11  2021  \n",
       "2                  1491.34        14.31     4746.79     10  2021  \n",
       "3                  1520.92        11.52     3759.12      9  2021  \n",
       "4                  1396.65         9.31     2941.88      8  2021  "
      ]
     },
     "execution_count": 3,
     "metadata": {},
     "output_type": "execute_result"
    }
   ],
   "source": [
    "d21.head()"
   ]
  },
  {
   "cell_type": "code",
   "execution_count": 4,
   "id": "aaf2a398",
   "metadata": {},
   "outputs": [
    {
     "data": {
      "text/html": [
       "<div>\n",
       "<style scoped>\n",
       "    .dataframe tbody tr th:only-of-type {\n",
       "        vertical-align: middle;\n",
       "    }\n",
       "\n",
       "    .dataframe tbody tr th {\n",
       "        vertical-align: top;\n",
       "    }\n",
       "\n",
       "    .dataframe thead th {\n",
       "        text-align: right;\n",
       "    }\n",
       "</style>\n",
       "<table border=\"1\" class=\"dataframe\">\n",
       "  <thead>\n",
       "    <tr style=\"text-align: right;\">\n",
       "      <th></th>\n",
       "      <th>UPI Banks\\n</th>\n",
       "      <th>Volume (Mn) By Costumers\\n</th>\n",
       "      <th>Value (Cr) by Costumers\\n</th>\n",
       "      <th>Volume (Mn)\\n</th>\n",
       "      <th>Value (Cr)</th>\n",
       "      <th>Month</th>\n",
       "      <th>Year</th>\n",
       "    </tr>\n",
       "  </thead>\n",
       "  <tbody>\n",
       "    <tr>\n",
       "      <th>0</th>\n",
       "      <td>Airtel Payments Bank Apps</td>\n",
       "      <td>8.53</td>\n",
       "      <td>2,047.45</td>\n",
       "      <td>13.22</td>\n",
       "      <td>4,729.77</td>\n",
       "      <td>1</td>\n",
       "      <td>2022</td>\n",
       "    </tr>\n",
       "    <tr>\n",
       "      <th>1</th>\n",
       "      <td>Allahabad Bank App</td>\n",
       "      <td>0.02</td>\n",
       "      <td>7.36</td>\n",
       "      <td>0.02</td>\n",
       "      <td>7.36</td>\n",
       "      <td>1</td>\n",
       "      <td>2022</td>\n",
       "    </tr>\n",
       "    <tr>\n",
       "      <th>2</th>\n",
       "      <td>Amazon Pay</td>\n",
       "      <td>73.5</td>\n",
       "      <td>6,729.66</td>\n",
       "      <td>73.5</td>\n",
       "      <td>6,729.66</td>\n",
       "      <td>1</td>\n",
       "      <td>2022</td>\n",
       "    </tr>\n",
       "    <tr>\n",
       "      <th>3</th>\n",
       "      <td>AU Small Finance Bank App</td>\n",
       "      <td>0.23</td>\n",
       "      <td>81.15</td>\n",
       "      <td>0.23</td>\n",
       "      <td>81.15</td>\n",
       "      <td>1</td>\n",
       "      <td>2022</td>\n",
       "    </tr>\n",
       "    <tr>\n",
       "      <th>4</th>\n",
       "      <td>Axis Bank Apps</td>\n",
       "      <td>6.78</td>\n",
       "      <td>1,058.77</td>\n",
       "      <td>47.25</td>\n",
       "      <td>1,093.02</td>\n",
       "      <td>1</td>\n",
       "      <td>2022</td>\n",
       "    </tr>\n",
       "  </tbody>\n",
       "</table>\n",
       "</div>"
      ],
      "text/plain": [
       "                 UPI Banks\\n Volume (Mn) By Costumers\\n  \\\n",
       "0  Airtel Payments Bank Apps                       8.53   \n",
       "1         Allahabad Bank App                       0.02   \n",
       "2                 Amazon Pay                       73.5   \n",
       "3  AU Small Finance Bank App                       0.23   \n",
       "4             Axis Bank Apps                       6.78   \n",
       "\n",
       "  Value (Cr) by Costumers\\n Volume (Mn)\\n Value (Cr)  Month  Year  \n",
       "0                  2,047.45         13.22   4,729.77      1  2022  \n",
       "1                      7.36          0.02       7.36      1  2022  \n",
       "2                  6,729.66          73.5   6,729.66      1  2022  \n",
       "3                     81.15          0.23      81.15      1  2022  \n",
       "4                  1,058.77         47.25   1,093.02      1  2022  "
      ]
     },
     "execution_count": 4,
     "metadata": {},
     "output_type": "execute_result"
    }
   ],
   "source": [
    "d22.head()"
   ]
  },
  {
   "cell_type": "code",
   "execution_count": 5,
   "id": "d7cc0493",
   "metadata": {},
   "outputs": [],
   "source": [
    "d21 = d21.drop(['Year'], axis = 1)"
   ]
  },
  {
   "cell_type": "code",
   "execution_count": 6,
   "id": "d103cb5f",
   "metadata": {},
   "outputs": [],
   "source": [
    "d22 = d22.drop(['Year'], axis = 1)"
   ]
  },
  {
   "cell_type": "code",
   "execution_count": 7,
   "id": "09d9af8d",
   "metadata": {},
   "outputs": [
    {
     "data": {
      "text/html": [
       "<div>\n",
       "<style scoped>\n",
       "    .dataframe tbody tr th:only-of-type {\n",
       "        vertical-align: middle;\n",
       "    }\n",
       "\n",
       "    .dataframe tbody tr th {\n",
       "        vertical-align: top;\n",
       "    }\n",
       "\n",
       "    .dataframe thead th {\n",
       "        text-align: right;\n",
       "    }\n",
       "</style>\n",
       "<table border=\"1\" class=\"dataframe\">\n",
       "  <thead>\n",
       "    <tr style=\"text-align: right;\">\n",
       "      <th></th>\n",
       "      <th>UPI Banks</th>\n",
       "      <th>Volume (Mn) By Costumers</th>\n",
       "      <th>Value (Cr) by Costumers</th>\n",
       "      <th>Volume (Mn)</th>\n",
       "      <th>Value (Cr)</th>\n",
       "      <th>Month</th>\n",
       "    </tr>\n",
       "  </thead>\n",
       "  <tbody>\n",
       "    <tr>\n",
       "      <th>651</th>\n",
       "      <td>YuvaPay</td>\n",
       "      <td>1.59</td>\n",
       "      <td>51.22</td>\n",
       "      <td>1.59</td>\n",
       "      <td>51.22</td>\n",
       "      <td>4</td>\n",
       "    </tr>\n",
       "    <tr>\n",
       "      <th>652</th>\n",
       "      <td>YuvaPay</td>\n",
       "      <td>0.56</td>\n",
       "      <td>18.56</td>\n",
       "      <td>0.56</td>\n",
       "      <td>18.56</td>\n",
       "      <td>3</td>\n",
       "    </tr>\n",
       "    <tr>\n",
       "      <th>653</th>\n",
       "      <td>YuvaPay</td>\n",
       "      <td>0.02</td>\n",
       "      <td>0.63</td>\n",
       "      <td>0.02</td>\n",
       "      <td>0.63</td>\n",
       "      <td>2</td>\n",
       "    </tr>\n",
       "  </tbody>\n",
       "</table>\n",
       "</div>"
      ],
      "text/plain": [
       "    UPI Banks  Volume (Mn) By Costumers  Value (Cr) by Costumers  Volume (Mn)  \\\n",
       "651   YuvaPay                      1.59                    51.22         1.59   \n",
       "652   YuvaPay                      0.56                    18.56         0.56   \n",
       "653   YuvaPay                      0.02                     0.63         0.02   \n",
       "\n",
       "     Value (Cr)  Month  \n",
       "651       51.22      4  \n",
       "652       18.56      3  \n",
       "653        0.63      2  "
      ]
     },
     "execution_count": 7,
     "metadata": {},
     "output_type": "execute_result"
    }
   ],
   "source": [
    "d21.tail(3)"
   ]
  },
  {
   "cell_type": "code",
   "execution_count": 8,
   "id": "ca09a208",
   "metadata": {},
   "outputs": [
    {
     "data": {
      "text/html": [
       "<div>\n",
       "<style scoped>\n",
       "    .dataframe tbody tr th:only-of-type {\n",
       "        vertical-align: middle;\n",
       "    }\n",
       "\n",
       "    .dataframe tbody tr th {\n",
       "        vertical-align: top;\n",
       "    }\n",
       "\n",
       "    .dataframe thead th {\n",
       "        text-align: right;\n",
       "    }\n",
       "</style>\n",
       "<table border=\"1\" class=\"dataframe\">\n",
       "  <thead>\n",
       "    <tr style=\"text-align: right;\">\n",
       "      <th></th>\n",
       "      <th>UPI Banks\\n</th>\n",
       "      <th>Volume (Mn) By Costumers\\n</th>\n",
       "      <th>Value (Cr) by Costumers\\n</th>\n",
       "      <th>Volume (Mn)\\n</th>\n",
       "      <th>Value (Cr)</th>\n",
       "      <th>Month</th>\n",
       "    </tr>\n",
       "  </thead>\n",
       "  <tbody>\n",
       "    <tr>\n",
       "      <th>382</th>\n",
       "      <td>Yes Bank Apps</td>\n",
       "      <td>41.67</td>\n",
       "      <td>9,889.56</td>\n",
       "      <td>44.03</td>\n",
       "      <td>11,147.17</td>\n",
       "      <td>6</td>\n",
       "    </tr>\n",
       "    <tr>\n",
       "      <th>383</th>\n",
       "      <td>YuvaPay</td>\n",
       "      <td>0.03</td>\n",
       "      <td>58.31</td>\n",
       "      <td>0.03</td>\n",
       "      <td>58.31</td>\n",
       "      <td>6</td>\n",
       "    </tr>\n",
       "    <tr>\n",
       "      <th>384</th>\n",
       "      <td>Others</td>\n",
       "      <td>0.02</td>\n",
       "      <td>6.34</td>\n",
       "      <td>0.02</td>\n",
       "      <td>6.34</td>\n",
       "      <td>6</td>\n",
       "    </tr>\n",
       "  </tbody>\n",
       "</table>\n",
       "</div>"
      ],
      "text/plain": [
       "       UPI Banks\\n Volume (Mn) By Costumers\\n Value (Cr) by Costumers\\n  \\\n",
       "382  Yes Bank Apps                      41.67                  9,889.56   \n",
       "383        YuvaPay                       0.03                     58.31   \n",
       "384         Others                       0.02                      6.34   \n",
       "\n",
       "    Volume (Mn)\\n Value (Cr)  Month  \n",
       "382         44.03  11,147.17      6  \n",
       "383          0.03      58.31      6  \n",
       "384          0.02       6.34      6  "
      ]
     },
     "execution_count": 8,
     "metadata": {},
     "output_type": "execute_result"
    }
   ],
   "source": [
    "d22.tail(3)"
   ]
  },
  {
   "cell_type": "code",
   "execution_count": 9,
   "id": "dfb3c546",
   "metadata": {},
   "outputs": [
    {
     "data": {
      "application/vnd.jupyter.widget-view+json": {
       "model_id": "ffd18c391de64ce3936ce73fd3450ce8",
       "version_major": 2,
       "version_minor": 0
      },
      "text/plain": [
       "Summarize dataset:   0%|          | 0/5 [00:00<?, ?it/s]"
      ]
     },
     "metadata": {},
     "output_type": "display_data"
    },
    {
     "data": {
      "application/vnd.jupyter.widget-view+json": {
       "model_id": "44621480db0d4e9792cbcedb13254cdf",
       "version_major": 2,
       "version_minor": 0
      },
      "text/plain": [
       "Generate report structure:   0%|          | 0/1 [00:00<?, ?it/s]"
      ]
     },
     "metadata": {},
     "output_type": "display_data"
    },
    {
     "data": {
      "application/vnd.jupyter.widget-view+json": {
       "model_id": "9a535a7834ad47de922f9f3d9c9c2e89",
       "version_major": 2,
       "version_minor": 0
      },
      "text/plain": [
       "Render HTML:   0%|          | 0/1 [00:00<?, ?it/s]"
      ]
     },
     "metadata": {},
     "output_type": "display_data"
    },
    {
     "data": {
      "application/vnd.jupyter.widget-view+json": {
       "model_id": "7d2fb016f4664833aa4b46d2c45a2953",
       "version_major": 2,
       "version_minor": 0
      },
      "text/plain": [
       "Export report to file:   0%|          | 0/1 [00:00<?, ?it/s]"
      ]
     },
     "metadata": {},
     "output_type": "display_data"
    }
   ],
   "source": [
    "from pandas_profiling import ProfileReport\n",
    "prof = ProfileReport(d21)\n",
    "prof.to_file(output_file = 'output21.html')"
   ]
  },
  {
   "cell_type": "code",
   "execution_count": 10,
   "id": "9f6d5f5d",
   "metadata": {},
   "outputs": [
    {
     "data": {
      "application/vnd.jupyter.widget-view+json": {
       "model_id": "49480bbc8019480eafa2fc3d10720d42",
       "version_major": 2,
       "version_minor": 0
      },
      "text/plain": [
       "Summarize dataset:   0%|          | 0/5 [00:00<?, ?it/s]"
      ]
     },
     "metadata": {},
     "output_type": "display_data"
    },
    {
     "data": {
      "application/vnd.jupyter.widget-view+json": {
       "model_id": "67e9bc587c1b471281124ced98feb886",
       "version_major": 2,
       "version_minor": 0
      },
      "text/plain": [
       "Generate report structure:   0%|          | 0/1 [00:00<?, ?it/s]"
      ]
     },
     "metadata": {},
     "output_type": "display_data"
    },
    {
     "data": {
      "application/vnd.jupyter.widget-view+json": {
       "model_id": "e82eb8957ba647a99b1b6f7d9246b389",
       "version_major": 2,
       "version_minor": 0
      },
      "text/plain": [
       "Render HTML:   0%|          | 0/1 [00:00<?, ?it/s]"
      ]
     },
     "metadata": {},
     "output_type": "display_data"
    },
    {
     "data": {
      "application/vnd.jupyter.widget-view+json": {
       "model_id": "f0fb6d5471ca421c8770d2bc86b172e0",
       "version_major": 2,
       "version_minor": 0
      },
      "text/plain": [
       "Export report to file:   0%|          | 0/1 [00:00<?, ?it/s]"
      ]
     },
     "metadata": {},
     "output_type": "display_data"
    }
   ],
   "source": [
    "from pandas_profiling import ProfileReport\n",
    "prof = ProfileReport(d22)\n",
    "prof.to_file(output_file = 'output22.html')"
   ]
  },
  {
   "cell_type": "code",
   "execution_count": 11,
   "id": "d7dd0c3d",
   "metadata": {},
   "outputs": [
    {
     "name": "stdout",
     "output_type": "stream",
     "text": [
      "<class 'pandas.core.frame.DataFrame'>\n",
      "RangeIndex: 654 entries, 0 to 653\n",
      "Data columns (total 6 columns):\n",
      " #   Column                    Non-Null Count  Dtype  \n",
      "---  ------                    --------------  -----  \n",
      " 0   UPI Banks                 654 non-null    object \n",
      " 1   Volume (Mn) By Costumers  654 non-null    float64\n",
      " 2   Value (Cr) by Costumers   654 non-null    float64\n",
      " 3   Volume (Mn)               654 non-null    float64\n",
      " 4   Value (Cr)                654 non-null    float64\n",
      " 5   Month                     654 non-null    int64  \n",
      "dtypes: float64(4), int64(1), object(1)\n",
      "memory usage: 30.8+ KB\n"
     ]
    }
   ],
   "source": [
    "d21.info()"
   ]
  },
  {
   "cell_type": "code",
   "execution_count": 12,
   "id": "410273d6",
   "metadata": {},
   "outputs": [
    {
     "data": {
      "text/html": [
       "<div>\n",
       "<style scoped>\n",
       "    .dataframe tbody tr th:only-of-type {\n",
       "        vertical-align: middle;\n",
       "    }\n",
       "\n",
       "    .dataframe tbody tr th {\n",
       "        vertical-align: top;\n",
       "    }\n",
       "\n",
       "    .dataframe thead th {\n",
       "        text-align: right;\n",
       "    }\n",
       "</style>\n",
       "<table border=\"1\" class=\"dataframe\">\n",
       "  <thead>\n",
       "    <tr style=\"text-align: right;\">\n",
       "      <th></th>\n",
       "      <th>Volume (Mn) By Costumers</th>\n",
       "      <th>Value (Cr) by Costumers</th>\n",
       "      <th>Volume (Mn)</th>\n",
       "      <th>Value (Cr)</th>\n",
       "      <th>Month</th>\n",
       "    </tr>\n",
       "  </thead>\n",
       "  <tbody>\n",
       "    <tr>\n",
       "      <th>count</th>\n",
       "      <td>654.000000</td>\n",
       "      <td>654.000000</td>\n",
       "      <td>654.000000</td>\n",
       "      <td>654.000000</td>\n",
       "      <td>654.000000</td>\n",
       "    </tr>\n",
       "    <tr>\n",
       "      <th>mean</th>\n",
       "      <td>57.960948</td>\n",
       "      <td>10943.292813</td>\n",
       "      <td>60.460321</td>\n",
       "      <td>11134.196682</td>\n",
       "      <td>6.571865</td>\n",
       "    </tr>\n",
       "    <tr>\n",
       "      <th>std</th>\n",
       "      <td>256.842682</td>\n",
       "      <td>49450.615924</td>\n",
       "      <td>258.686922</td>\n",
       "      <td>49588.538504</td>\n",
       "      <td>3.488797</td>\n",
       "    </tr>\n",
       "    <tr>\n",
       "      <th>min</th>\n",
       "      <td>0.010000</td>\n",
       "      <td>0.410000</td>\n",
       "      <td>0.010000</td>\n",
       "      <td>0.410000</td>\n",
       "      <td>1.000000</td>\n",
       "    </tr>\n",
       "    <tr>\n",
       "      <th>25%</th>\n",
       "      <td>0.050000</td>\n",
       "      <td>21.132500</td>\n",
       "      <td>0.050000</td>\n",
       "      <td>21.132500</td>\n",
       "      <td>3.250000</td>\n",
       "    </tr>\n",
       "    <tr>\n",
       "      <th>50%</th>\n",
       "      <td>0.250000</td>\n",
       "      <td>60.640000</td>\n",
       "      <td>0.250000</td>\n",
       "      <td>60.745000</td>\n",
       "      <td>7.000000</td>\n",
       "    </tr>\n",
       "    <tr>\n",
       "      <th>75%</th>\n",
       "      <td>2.357500</td>\n",
       "      <td>401.312500</td>\n",
       "      <td>2.357500</td>\n",
       "      <td>407.062500</td>\n",
       "      <td>10.000000</td>\n",
       "    </tr>\n",
       "    <tr>\n",
       "      <th>max</th>\n",
       "      <td>2077.600000</td>\n",
       "      <td>394565.580000</td>\n",
       "      <td>2077.600000</td>\n",
       "      <td>394565.580000</td>\n",
       "      <td>12.000000</td>\n",
       "    </tr>\n",
       "  </tbody>\n",
       "</table>\n",
       "</div>"
      ],
      "text/plain": [
       "       Volume (Mn) By Costumers  Value (Cr) by Costumers  Volume (Mn)  \\\n",
       "count                654.000000               654.000000   654.000000   \n",
       "mean                  57.960948             10943.292813    60.460321   \n",
       "std                  256.842682             49450.615924   258.686922   \n",
       "min                    0.010000                 0.410000     0.010000   \n",
       "25%                    0.050000                21.132500     0.050000   \n",
       "50%                    0.250000                60.640000     0.250000   \n",
       "75%                    2.357500               401.312500     2.357500   \n",
       "max                 2077.600000            394565.580000  2077.600000   \n",
       "\n",
       "          Value (Cr)       Month  \n",
       "count     654.000000  654.000000  \n",
       "mean    11134.196682    6.571865  \n",
       "std     49588.538504    3.488797  \n",
       "min         0.410000    1.000000  \n",
       "25%        21.132500    3.250000  \n",
       "50%        60.745000    7.000000  \n",
       "75%       407.062500   10.000000  \n",
       "max    394565.580000   12.000000  "
      ]
     },
     "execution_count": 12,
     "metadata": {},
     "output_type": "execute_result"
    }
   ],
   "source": [
    "d21.describe()"
   ]
  },
  {
   "cell_type": "code",
   "execution_count": 13,
   "id": "a4f20b87",
   "metadata": {},
   "outputs": [
    {
     "name": "stdout",
     "output_type": "stream",
     "text": [
      "<class 'pandas.core.frame.DataFrame'>\n",
      "RangeIndex: 385 entries, 0 to 384\n",
      "Data columns (total 6 columns):\n",
      " #   Column                     Non-Null Count  Dtype \n",
      "---  ------                     --------------  ----- \n",
      " 0   UPI Banks\n",
      "                 385 non-null    object\n",
      " 1   Volume (Mn) By Costumers\n",
      "  385 non-null    object\n",
      " 2   Value (Cr) by Costumers\n",
      "   385 non-null    object\n",
      " 3   Volume (Mn)\n",
      "               385 non-null    object\n",
      " 4   Value (Cr)                 385 non-null    object\n",
      " 5   Month                      385 non-null    int64 \n",
      "dtypes: int64(1), object(5)\n",
      "memory usage: 18.2+ KB\n"
     ]
    }
   ],
   "source": [
    "d22.info()"
   ]
  },
  {
   "cell_type": "code",
   "execution_count": 14,
   "id": "2d1ab3ae",
   "metadata": {},
   "outputs": [
    {
     "data": {
      "text/plain": [
       "UPI Banks\\n                   Google Pay\n",
       "Volume (Mn) By Costumers\\n      1,584.20\n",
       "Value (Cr) by Costumers\\n     298,267.07\n",
       "Volume (Mn)\\n                   1,584.20\n",
       "Value (Cr)                    298,267.07\n",
       "Month                                  1\n",
       "Name: 23, dtype: object"
      ]
     },
     "execution_count": 14,
     "metadata": {},
     "output_type": "execute_result"
    }
   ],
   "source": [
    "d22.iloc[23]"
   ]
  },
  {
   "cell_type": "code",
   "execution_count": 15,
   "id": "eb05e979",
   "metadata": {},
   "outputs": [],
   "source": [
    "def comma_rem(obj):\n",
    "    for i in obj:\n",
    "        obj = obj.replace(',','')\n",
    "        return obj"
   ]
  },
  {
   "cell_type": "code",
   "execution_count": 16,
   "id": "a8bd5e71",
   "metadata": {},
   "outputs": [
    {
     "data": {
      "text/plain": [
       "'233'"
      ]
     },
     "execution_count": 16,
     "metadata": {},
     "output_type": "execute_result"
    }
   ],
   "source": [
    "comma_rem('2,33')"
   ]
  },
  {
   "cell_type": "code",
   "execution_count": 17,
   "id": "91dd2f29",
   "metadata": {},
   "outputs": [],
   "source": [
    "df = d22['Volume (Mn) By Costumers\\n'].apply(comma_rem)"
   ]
  },
  {
   "cell_type": "code",
   "execution_count": 18,
   "id": "513e0f47",
   "metadata": {},
   "outputs": [
    {
     "data": {
      "text/plain": [
       "'1584.20'"
      ]
     },
     "execution_count": 18,
     "metadata": {},
     "output_type": "execute_result"
    }
   ],
   "source": [
    "df.iloc[23]"
   ]
  },
  {
   "cell_type": "code",
   "execution_count": 19,
   "id": "e8d5473c",
   "metadata": {},
   "outputs": [],
   "source": [
    "d22['Volume (Mn) By Costumers\\n'] = d22['Volume (Mn) By Costumers\\n'].apply(comma_rem)"
   ]
  },
  {
   "cell_type": "code",
   "execution_count": 20,
   "id": "f74efc6b",
   "metadata": {},
   "outputs": [],
   "source": [
    "d22['Value (Cr) by Costumers\\n'] = d22['Value (Cr) by Costumers\\n'].apply(comma_rem)\n",
    "d22['Volume (Mn)\\n'] = d22['Volume (Mn)\\n'].apply(comma_rem)\n",
    "d22['Value (Cr)'] = d22['Value (Cr)'].apply(comma_rem)"
   ]
  },
  {
   "cell_type": "code",
   "execution_count": 21,
   "id": "3b89def1",
   "metadata": {},
   "outputs": [
    {
     "data": {
      "text/html": [
       "<div>\n",
       "<style scoped>\n",
       "    .dataframe tbody tr th:only-of-type {\n",
       "        vertical-align: middle;\n",
       "    }\n",
       "\n",
       "    .dataframe tbody tr th {\n",
       "        vertical-align: top;\n",
       "    }\n",
       "\n",
       "    .dataframe thead th {\n",
       "        text-align: right;\n",
       "    }\n",
       "</style>\n",
       "<table border=\"1\" class=\"dataframe\">\n",
       "  <thead>\n",
       "    <tr style=\"text-align: right;\">\n",
       "      <th></th>\n",
       "      <th>UPI Banks\\n</th>\n",
       "      <th>Volume (Mn) By Costumers\\n</th>\n",
       "      <th>Value (Cr) by Costumers\\n</th>\n",
       "      <th>Volume (Mn)\\n</th>\n",
       "      <th>Value (Cr)</th>\n",
       "      <th>Month</th>\n",
       "    </tr>\n",
       "  </thead>\n",
       "  <tbody>\n",
       "    <tr>\n",
       "      <th>0</th>\n",
       "      <td>Airtel Payments Bank Apps</td>\n",
       "      <td>8.53</td>\n",
       "      <td>2047.45</td>\n",
       "      <td>13.22</td>\n",
       "      <td>4729.77</td>\n",
       "      <td>1</td>\n",
       "    </tr>\n",
       "    <tr>\n",
       "      <th>1</th>\n",
       "      <td>Allahabad Bank App</td>\n",
       "      <td>0.02</td>\n",
       "      <td>7.36</td>\n",
       "      <td>0.02</td>\n",
       "      <td>7.36</td>\n",
       "      <td>1</td>\n",
       "    </tr>\n",
       "    <tr>\n",
       "      <th>2</th>\n",
       "      <td>Amazon Pay</td>\n",
       "      <td>73.5</td>\n",
       "      <td>6729.66</td>\n",
       "      <td>73.5</td>\n",
       "      <td>6729.66</td>\n",
       "      <td>1</td>\n",
       "    </tr>\n",
       "  </tbody>\n",
       "</table>\n",
       "</div>"
      ],
      "text/plain": [
       "                 UPI Banks\\n Volume (Mn) By Costumers\\n  \\\n",
       "0  Airtel Payments Bank Apps                       8.53   \n",
       "1         Allahabad Bank App                       0.02   \n",
       "2                 Amazon Pay                       73.5   \n",
       "\n",
       "  Value (Cr) by Costumers\\n Volume (Mn)\\n Value (Cr)  Month  \n",
       "0                   2047.45         13.22    4729.77      1  \n",
       "1                      7.36          0.02       7.36      1  \n",
       "2                   6729.66          73.5    6729.66      1  "
      ]
     },
     "execution_count": 21,
     "metadata": {},
     "output_type": "execute_result"
    }
   ],
   "source": [
    "d22.head(3)"
   ]
  },
  {
   "cell_type": "code",
   "execution_count": 22,
   "id": "92cff6cf",
   "metadata": {},
   "outputs": [
    {
     "data": {
      "text/plain": [
       "0       8.53\n",
       "1       0.02\n",
       "2      73.50\n",
       "3       0.23\n",
       "4       6.78\n",
       "       ...  \n",
       "380     0.01\n",
       "381    23.04\n",
       "382    41.67\n",
       "383     0.03\n",
       "384     0.02\n",
       "Name: Volume (Mn) By Costumers\\n, Length: 385, dtype: float64"
      ]
     },
     "execution_count": 22,
     "metadata": {},
     "output_type": "execute_result"
    }
   ],
   "source": [
    "#d22['Volume (Mn) By Costumers\\n'] =\n",
    "pd.to_numeric(d22['Volume (Mn) By Costumers\\n'])"
   ]
  },
  {
   "cell_type": "code",
   "execution_count": 23,
   "id": "441e786a",
   "metadata": {},
   "outputs": [],
   "source": [
    "d22['Volume (Mn) By Costumers\\n'] = pd.to_numeric(d22['Volume (Mn) By Costumers\\n'])\n",
    "d22['Volume (Mn)\\n'] = pd.to_numeric(d22['Volume (Mn)\\n'])\n",
    "d22['Value (Cr) by Costumers\\n'] = pd.to_numeric(d22['Value (Cr) by Costumers\\n'])\n",
    "d22['Value (Cr)'] = pd.to_numeric(d22['Value (Cr)'])"
   ]
  },
  {
   "cell_type": "code",
   "execution_count": 24,
   "id": "03fe8bd2",
   "metadata": {},
   "outputs": [
    {
     "data": {
      "application/vnd.jupyter.widget-view+json": {
       "model_id": "4cbc0ae508454ead86f8df7ea4b2c454",
       "version_major": 2,
       "version_minor": 0
      },
      "text/plain": [
       "Summarize dataset:   0%|          | 0/5 [00:00<?, ?it/s]"
      ]
     },
     "metadata": {},
     "output_type": "display_data"
    },
    {
     "data": {
      "application/vnd.jupyter.widget-view+json": {
       "model_id": "ff7c8021f605486fbb582e6df98a8ee9",
       "version_major": 2,
       "version_minor": 0
      },
      "text/plain": [
       "Generate report structure:   0%|          | 0/1 [00:00<?, ?it/s]"
      ]
     },
     "metadata": {},
     "output_type": "display_data"
    },
    {
     "data": {
      "application/vnd.jupyter.widget-view+json": {
       "model_id": "768790c39b05401f95a5c3064ad77eb0",
       "version_major": 2,
       "version_minor": 0
      },
      "text/plain": [
       "Render HTML:   0%|          | 0/1 [00:00<?, ?it/s]"
      ]
     },
     "metadata": {},
     "output_type": "display_data"
    },
    {
     "data": {
      "application/vnd.jupyter.widget-view+json": {
       "model_id": "2e7a1ab330fd4805bc52fcee3b27d221",
       "version_major": 2,
       "version_minor": 0
      },
      "text/plain": [
       "Export report to file:   0%|          | 0/1 [00:00<?, ?it/s]"
      ]
     },
     "metadata": {},
     "output_type": "display_data"
    }
   ],
   "source": [
    "from pandas_profiling import ProfileReport\n",
    "prof = ProfileReport(d22)\n",
    "prof.to_file(output_file = 'output22.html')"
   ]
  },
  {
   "cell_type": "code",
   "execution_count": 25,
   "id": "a0d14ccb",
   "metadata": {},
   "outputs": [
    {
     "data": {
      "text/plain": [
       "31584.74999999998"
      ]
     },
     "execution_count": 25,
     "metadata": {},
     "output_type": "execute_result"
    }
   ],
   "source": [
    "vol_cust_sumd22 = sum(d22['Volume (Mn) By Costumers\\n'])\n",
    "vol_cust_sumd22"
   ]
  },
  {
   "cell_type": "code",
   "execution_count": 27,
   "id": "e7ae9f25",
   "metadata": {},
   "outputs": [
    {
     "data": {
      "text/plain": [
       "37906.460000000014"
      ]
     },
     "execution_count": 27,
     "metadata": {},
     "output_type": "execute_result"
    }
   ],
   "source": [
    "vol_cust_sumd21 = sum(d21['Volume (Mn) By Costumers'])\n",
    "vol_cust_sumd21"
   ]
  },
  {
   "cell_type": "code",
   "execution_count": 28,
   "id": "dac1b320",
   "metadata": {},
   "outputs": [],
   "source": [
    "import seaborn as sns\n",
    "import matplotlib.pyplot as plt"
   ]
  },
  {
   "cell_type": "code",
   "execution_count": 29,
   "id": "9f2c9559",
   "metadata": {},
   "outputs": [
    {
     "data": {
      "text/html": [
       "<div>\n",
       "<style scoped>\n",
       "    .dataframe tbody tr th:only-of-type {\n",
       "        vertical-align: middle;\n",
       "    }\n",
       "\n",
       "    .dataframe tbody tr th {\n",
       "        vertical-align: top;\n",
       "    }\n",
       "\n",
       "    .dataframe thead th {\n",
       "        text-align: right;\n",
       "    }\n",
       "</style>\n",
       "<table border=\"1\" class=\"dataframe\">\n",
       "  <thead>\n",
       "    <tr style=\"text-align: right;\">\n",
       "      <th></th>\n",
       "      <th>UPI Banks\\n</th>\n",
       "      <th>Volume (Mn) By Costumers\\n</th>\n",
       "      <th>Value (Cr) by Costumers\\n</th>\n",
       "      <th>Volume (Mn)\\n</th>\n",
       "      <th>Value (Cr)</th>\n",
       "      <th>Month</th>\n",
       "    </tr>\n",
       "  </thead>\n",
       "  <tbody>\n",
       "    <tr>\n",
       "      <th>0</th>\n",
       "      <td>Airtel Payments Bank Apps</td>\n",
       "      <td>8.53</td>\n",
       "      <td>2047.45</td>\n",
       "      <td>13.22</td>\n",
       "      <td>4729.77</td>\n",
       "      <td>1</td>\n",
       "    </tr>\n",
       "    <tr>\n",
       "      <th>1</th>\n",
       "      <td>Allahabad Bank App</td>\n",
       "      <td>0.02</td>\n",
       "      <td>7.36</td>\n",
       "      <td>0.02</td>\n",
       "      <td>7.36</td>\n",
       "      <td>1</td>\n",
       "    </tr>\n",
       "    <tr>\n",
       "      <th>2</th>\n",
       "      <td>Amazon Pay</td>\n",
       "      <td>73.50</td>\n",
       "      <td>6729.66</td>\n",
       "      <td>73.50</td>\n",
       "      <td>6729.66</td>\n",
       "      <td>1</td>\n",
       "    </tr>\n",
       "    <tr>\n",
       "      <th>3</th>\n",
       "      <td>AU Small Finance Bank App</td>\n",
       "      <td>0.23</td>\n",
       "      <td>81.15</td>\n",
       "      <td>0.23</td>\n",
       "      <td>81.15</td>\n",
       "      <td>1</td>\n",
       "    </tr>\n",
       "    <tr>\n",
       "      <th>4</th>\n",
       "      <td>Axis Bank Apps</td>\n",
       "      <td>6.78</td>\n",
       "      <td>1058.77</td>\n",
       "      <td>47.25</td>\n",
       "      <td>1093.02</td>\n",
       "      <td>1</td>\n",
       "    </tr>\n",
       "  </tbody>\n",
       "</table>\n",
       "</div>"
      ],
      "text/plain": [
       "                 UPI Banks\\n  Volume (Mn) By Costumers\\n  \\\n",
       "0  Airtel Payments Bank Apps                        8.53   \n",
       "1         Allahabad Bank App                        0.02   \n",
       "2                 Amazon Pay                       73.50   \n",
       "3  AU Small Finance Bank App                        0.23   \n",
       "4             Axis Bank Apps                        6.78   \n",
       "\n",
       "   Value (Cr) by Costumers\\n  Volume (Mn)\\n  Value (Cr)  Month  \n",
       "0                    2047.45          13.22     4729.77      1  \n",
       "1                       7.36           0.02        7.36      1  \n",
       "2                    6729.66          73.50     6729.66      1  \n",
       "3                      81.15           0.23       81.15      1  \n",
       "4                    1058.77          47.25     1093.02      1  "
      ]
     },
     "execution_count": 29,
     "metadata": {},
     "output_type": "execute_result"
    }
   ],
   "source": [
    "d22.head()"
   ]
  },
  {
   "cell_type": "code",
   "execution_count": 32,
   "id": "ba13276f",
   "metadata": {},
   "outputs": [
    {
     "data": {
      "text/plain": [
       "['AU Small Finance Bank App',\n",
       " 'AU Small Finance Bank App',\n",
       " 'AU Small Finance Bank Apps',\n",
       " 'AU Small Finance Bank Apps',\n",
       " 'AU Small Finance Bank Apps',\n",
       " 'AU Small Finance Bank Apps',\n",
       " 'Airtel Payments Bank Apps',\n",
       " 'Airtel Payments Bank Apps',\n",
       " 'Airtel Payments Bank Apps',\n",
       " 'Airtel Payments Bank Apps',\n",
       " 'Airtel Payments Bank Apps',\n",
       " 'Airtel Payments Bank Apps',\n",
       " 'Allahabad Bank App',\n",
       " 'Allahabad Bank App',\n",
       " 'Allahabad Bank Apps',\n",
       " 'Allahabad Bank Apps',\n",
       " 'Allahabad Bank Apps',\n",
       " 'Amazon Pay',\n",
       " 'Amazon Pay',\n",
       " 'Amazon Pay',\n",
       " 'Amazon Pay',\n",
       " 'Amazon Pay',\n",
       " 'Amazon Pay',\n",
       " 'Axis Bank Apps',\n",
       " 'Axis Bank Apps',\n",
       " 'Axis Bank Apps',\n",
       " 'Axis Bank Apps',\n",
       " 'Axis Bank Apps',\n",
       " 'Axis Bank Apps',\n",
       " 'BHIM',\n",
       " 'BHIM',\n",
       " 'BHIM',\n",
       " 'BHIM',\n",
       " 'BHIM',\n",
       " 'BHIM',\n",
       " 'Bajaj Finserv',\n",
       " 'Bajaj Finserv',\n",
       " 'Bajaj Finserv',\n",
       " 'Bajaj Finserv',\n",
       " 'Bajaj Finserv',\n",
       " 'Bajaj Finserv',\n",
       " 'Bajaj Markets',\n",
       " 'Bank of Baroda Apps',\n",
       " 'Bank of Baroda Apps',\n",
       " 'Bank of Baroda Apps',\n",
       " 'Bank of Baroda Apps',\n",
       " 'Bank of Baroda Apps',\n",
       " 'Bank of Baroda Apps',\n",
       " 'Bank of India App',\n",
       " 'Bank of India App',\n",
       " 'Bank of India Apps',\n",
       " 'Bank of India Apps',\n",
       " 'Bank of India Apps',\n",
       " 'Bank of India Apps',\n",
       " 'Bank of Maharashtra App',\n",
       " 'Bank of Maharashtra App',\n",
       " 'Bank of Maharashtra Apps',\n",
       " 'Bank of Maharashtra Apps',\n",
       " 'Bank of Maharashtra Apps',\n",
       " 'Bank of Maharashtra Apps',\n",
       " 'Canara Bank App',\n",
       " 'Canara Bank App',\n",
       " 'Canara Bank Apps',\n",
       " 'Canara Bank Apps',\n",
       " 'Canara Bank Apps',\n",
       " 'Canara Bank Apps',\n",
       " 'Central Bank of India App',\n",
       " 'Central Bank of India App',\n",
       " 'Central Bank of India Apps',\n",
       " 'Central Bank of India Apps',\n",
       " 'Central Bank of India Apps',\n",
       " 'Central Bank of India Apps',\n",
       " 'Citi Bank App',\n",
       " 'Citi Bank App',\n",
       " 'Citi Bank Apps',\n",
       " 'Citi Bank Apps',\n",
       " 'Citi Bank Apps',\n",
       " 'Citi Bank Apps',\n",
       " 'City Union Bank App',\n",
       " 'City Union Bank App',\n",
       " 'City Union Bank Apps',\n",
       " 'City Union Bank Apps',\n",
       " 'City Union Bank Apps',\n",
       " 'City Union Bank Apps',\n",
       " 'Cointab',\n",
       " 'Cointab',\n",
       " 'Cointab',\n",
       " 'Cointab',\n",
       " 'Cointab',\n",
       " 'Cointab',\n",
       " 'Cred',\n",
       " 'Cred',\n",
       " 'Cred',\n",
       " 'Cred',\n",
       " 'Cred',\n",
       " 'Cred',\n",
       " 'DBS Digibank App',\n",
       " 'DBS Digibank App',\n",
       " 'DBS Digibank Apps',\n",
       " 'DBS Digibank Apps',\n",
       " 'DBS Digibank Apps',\n",
       " 'DBS Digibank Apps',\n",
       " 'Dena Bank App',\n",
       " 'Dena Bank App',\n",
       " 'Dena Bank Apps',\n",
       " 'Deutsche Bank App',\n",
       " 'Deutsche Bank App',\n",
       " 'Deutsche Bank Apps',\n",
       " 'Deutsche Bank Apps',\n",
       " 'Deutsche Bank Apps',\n",
       " 'Deutsche Bank Apps',\n",
       " 'Dhanlaxmi Bank App',\n",
       " 'Dhanlaxmi Bank App',\n",
       " 'Dhanlaxmi Bank Apps',\n",
       " 'Dhanlaxmi Bank Apps',\n",
       " 'Dhanlaxmi Bank Apps',\n",
       " 'Dhanlaxmi Bank Apps',\n",
       " 'Equitas Small Finance Bank Apps',\n",
       " 'Fave',\n",
       " 'Fave',\n",
       " 'Fave',\n",
       " 'Fave',\n",
       " 'Federal Bank App',\n",
       " 'Federal Bank App',\n",
       " 'Federal Bank Apps',\n",
       " 'Federal Bank Apps',\n",
       " 'Federal Bank Apps',\n",
       " 'Federal Bank Apps',\n",
       " 'Fino Payments bank App',\n",
       " 'Fino Payments bank App',\n",
       " 'Fino Payments bank Apps',\n",
       " 'Fino Payments bank Apps',\n",
       " 'Fino Payments bank Apps',\n",
       " 'Fino Payments bank Apps',\n",
       " 'Finserv Markets',\n",
       " 'Finserv Markets',\n",
       " 'Finserv Markets',\n",
       " 'Finshell Pay',\n",
       " 'Finshell Pay',\n",
       " 'Finshell Pay',\n",
       " 'Finshell Pay',\n",
       " 'Finshell Pay',\n",
       " 'Finshell Pay',\n",
       " 'GoIbibo',\n",
       " 'GoIbibo',\n",
       " 'GoIbibo',\n",
       " 'GoIbibo',\n",
       " 'Google Pay',\n",
       " 'Google Pay',\n",
       " 'Google Pay',\n",
       " 'Google Pay',\n",
       " 'Google Pay',\n",
       " 'Google Pay',\n",
       " 'Groww',\n",
       " 'Groww',\n",
       " 'Groww',\n",
       " 'Groww',\n",
       " 'HDFC Bank Apps',\n",
       " 'HDFC Bank Apps',\n",
       " 'HDFC Bank Apps',\n",
       " 'HDFC Bank Apps',\n",
       " 'HDFC Bank Apps',\n",
       " 'HDFC Bank Apps',\n",
       " 'HSBC Bank App',\n",
       " 'HSBC Bank App',\n",
       " 'HSBC Bank Apps',\n",
       " 'HSBC Bank Apps',\n",
       " 'HSBC Bank Apps',\n",
       " 'HSBC Bank Apps',\n",
       " 'ICICI Bank Apps',\n",
       " 'ICICI Bank Apps',\n",
       " 'ICICI Bank Apps',\n",
       " 'ICICI Bank Apps',\n",
       " 'ICICI Bank Apps',\n",
       " 'ICICI Bank Apps',\n",
       " 'IDBI Bank App',\n",
       " 'IDBI Bank App',\n",
       " 'IDBI Bank Apps',\n",
       " 'IDBI Bank Apps',\n",
       " 'IDBI Bank Apps',\n",
       " 'IDBI Bank Apps',\n",
       " 'IDFC Bank App',\n",
       " 'IDFC Bank App',\n",
       " 'IDFC Bank Apps',\n",
       " 'IDFC Bank Apps',\n",
       " 'IDFC Bank Apps',\n",
       " 'IDFC Bank Apps',\n",
       " 'India Post Payments Bank App',\n",
       " 'India Post Payments Bank App',\n",
       " 'India Post Payments Bank Apps',\n",
       " 'India Post Payments Bank Apps',\n",
       " 'India Post Payments Bank Apps',\n",
       " 'India Post Payments Bank Apps',\n",
       " 'Indian Bank App',\n",
       " 'Indian Bank App',\n",
       " 'Indian Bank Apps',\n",
       " 'Indian Bank Apps',\n",
       " 'Indian Bank Apps',\n",
       " 'Indian Bank Apps',\n",
       " 'Indian Overseas Bank Apps',\n",
       " 'Indian Overseas Bank Apps',\n",
       " 'Indian Overseas Bank Apps',\n",
       " 'Indian Overseas Bank Apps',\n",
       " 'IndusInd Bank App',\n",
       " 'IndusInd Bank App',\n",
       " 'IndusInd Bank Apps',\n",
       " 'IndusInd Bank Apps',\n",
       " 'IndusInd Bank Apps',\n",
       " 'IndusInd Bank Apps',\n",
       " 'Jammu and Kashmir Bank App',\n",
       " 'Jammu and Kashmir Bank App',\n",
       " 'Jammu and Kashmir Bank Apps',\n",
       " 'Janata Sahakari Bank Apps',\n",
       " 'Janata Sahakari Bank Apps',\n",
       " 'Janata Sahakari Bank Apps',\n",
       " 'Janata Sahakari Bank Apps',\n",
       " 'Janta Sahakari Bank App',\n",
       " 'Janta Sahakari Bank App',\n",
       " 'Jio Payments Bank App',\n",
       " 'Jio Payments Bank App',\n",
       " 'Jio Payments Bank Apps',\n",
       " 'Jio Payments Bank Apps',\n",
       " 'Jio Payments Bank Apps',\n",
       " 'Jio Payments Bank Apps',\n",
       " 'Jupiter',\n",
       " 'Jupiter',\n",
       " 'Jupiter',\n",
       " 'Jupiter',\n",
       " 'Jupiter Edge (LivQuick PPI App)',\n",
       " 'Jupiter Edge (LivQuick PPI)',\n",
       " 'Jupiter Edge (LivQuick PPI)',\n",
       " 'Jupiter Money',\n",
       " 'Jupiter Money',\n",
       " 'Karnataka Bank App',\n",
       " 'Karnataka Bank App',\n",
       " 'Karnataka Bank Apps',\n",
       " 'Karnataka Bank Apps',\n",
       " 'Karnataka Bank Apps',\n",
       " 'Karnataka Bank Apps',\n",
       " 'Karur Vysya Bank App',\n",
       " 'Karur Vysya Bank App',\n",
       " 'Karur Vysya Bank Apps',\n",
       " 'Karur Vysya Bank Apps',\n",
       " 'Karur Vysya Bank Apps',\n",
       " 'Karur Vysya Bank Apps',\n",
       " 'Kotak Mahindra Bank Apps',\n",
       " 'Kotak Mahindra Bank Apps',\n",
       " 'Kotak Mahindra Bank Apps',\n",
       " 'Kotak Mahindra Bank Apps',\n",
       " 'Kotak Mahindra Bank Apps',\n",
       " 'Kotak Mahindra Bank Apps',\n",
       " 'MI Pay',\n",
       " 'MI Pay',\n",
       " 'MI Pay',\n",
       " 'MI Pay',\n",
       " 'MI Pay',\n",
       " 'MI Pay',\n",
       " 'MakeMy Trip',\n",
       " 'MakeMy Trip',\n",
       " 'MakeMyTrip',\n",
       " 'MakeMyTrip',\n",
       " 'MakeMyTrip',\n",
       " 'MakeMyTrip',\n",
       " 'Mobikwik',\n",
       " 'Mobikwik',\n",
       " 'Mobikwik',\n",
       " 'Mobikwik',\n",
       " 'Mobikwik',\n",
       " 'Mobikwik',\n",
       " 'NSDL Payments Bank App',\n",
       " 'NSDL Payments Bank App',\n",
       " 'NSDL Payments Bank Apps',\n",
       " 'NSDL Payments Bank Apps',\n",
       " 'NSDL Payments Bank Apps',\n",
       " 'NSDL Payments Bank Apps',\n",
       " 'Others',\n",
       " 'Others',\n",
       " 'Others',\n",
       " 'Others',\n",
       " 'Others',\n",
       " 'Others',\n",
       " 'Paytm Payments Bank App',\n",
       " 'Paytm Payments Bank App',\n",
       " 'Paytm Payments Bank App',\n",
       " 'Paytm Payments Bank App',\n",
       " 'Paytm Payments Bank App',\n",
       " 'Paytm Payments Bank App',\n",
       " 'PhonePe',\n",
       " 'PhonePe',\n",
       " 'PhonePe',\n",
       " 'PhonePe',\n",
       " 'PhonePe',\n",
       " 'PhonePe',\n",
       " 'Punjab National Bank App',\n",
       " 'Punjab National Bank App',\n",
       " 'Punjab National Bank Apps',\n",
       " 'Punjab National Bank Apps',\n",
       " 'Punjab National Bank Apps',\n",
       " 'Punjab National Bank Apps',\n",
       " 'Punjab Sind Bank Apps',\n",
       " 'Punjab Sind Bank Apps',\n",
       " 'Punjab Sind Bank Apps',\n",
       " 'Punjab Sind Bank Apps',\n",
       " 'Punjab Sindh Bank App',\n",
       " 'Punjab Sindh Bank Apps',\n",
       " 'RBL Bank App',\n",
       " 'RBL Bank App',\n",
       " 'RBL Bank Apps',\n",
       " 'RBL Bank Apps',\n",
       " 'RBL Bank Apps',\n",
       " 'RBL Bank Apps',\n",
       " 'Samsung Pay',\n",
       " 'Samsung Pay',\n",
       " 'Samsung Pay',\n",
       " 'Samsung Pay',\n",
       " 'Samsung Pay',\n",
       " 'Samsung Pay',\n",
       " 'South Indian Bank App',\n",
       " 'South Indian Bank App',\n",
       " 'South Indian Bank Apps',\n",
       " 'South Indian Bank Apps',\n",
       " 'South Indian Bank Apps',\n",
       " 'South Indian Bank Apps',\n",
       " 'Standard Chartered Bank App',\n",
       " 'Standard Chartered Bank App',\n",
       " 'Standard Chartered Bank Apps',\n",
       " 'Standard Chartered Bank Apps',\n",
       " 'Standard Chartered Bank Apps',\n",
       " 'Standard Chartered Bank Apps',\n",
       " 'State Bank of India Apps',\n",
       " 'State Bank of India Apps',\n",
       " 'State Bank of India Apps',\n",
       " 'State Bank of India Apps',\n",
       " 'State Bank of India Apps',\n",
       " 'State Bank of India Apps',\n",
       " 'SuperPay',\n",
       " 'SuperPay',\n",
       " 'TJSB Bank Apps',\n",
       " 'Tamilnad Mercantile Bank Apps',\n",
       " 'Tamilnad Mercantile Bank Apps',\n",
       " 'Tamilnad Mercantile Bank Apps',\n",
       " 'TataNeu',\n",
       " 'TataNeu',\n",
       " 'TataNeu',\n",
       " 'UCO Bank App',\n",
       " 'UCO Bank App',\n",
       " 'UCO Bank Apps',\n",
       " 'UCO Bank Apps',\n",
       " 'UCO Bank Apps',\n",
       " 'UCO Bank Apps',\n",
       " 'Ultracash',\n",
       " 'Ultracash',\n",
       " 'Ultracash',\n",
       " 'Ultracash',\n",
       " 'Ultracash',\n",
       " 'Ultracash',\n",
       " 'Union Bank Apps',\n",
       " 'Union Bank Apps',\n",
       " 'Union Bank Apps',\n",
       " 'Union Bank Apps',\n",
       " 'Union Bank Apps',\n",
       " 'Union Bank Apps',\n",
       " 'Utkarsh Small Finance Bank',\n",
       " 'Utkarsh Small Finance Bank Apps',\n",
       " 'Utkarsh Small Finance Bank Apps',\n",
       " 'Utkarsh Small Finance Bank Apps',\n",
       " 'Utkarsh Small Finance Bank Apps',\n",
       " 'WhatsApp',\n",
       " 'WhatsApp',\n",
       " 'WhatsApp',\n",
       " 'WhatsApp',\n",
       " 'WhatsApp',\n",
       " 'WhatsApp',\n",
       " 'Yes Bank Apps',\n",
       " 'Yes Bank Apps',\n",
       " 'Yes Bank Apps',\n",
       " 'Yes Bank Apps',\n",
       " 'Yes Bank Apps',\n",
       " 'Yes Bank Apps',\n",
       " 'YuvaPay',\n",
       " 'YuvaPay',\n",
       " 'YuvaPay',\n",
       " 'YuvaPay',\n",
       " 'YuvaPay',\n",
       " 'YuvaPay']"
      ]
     },
     "execution_count": 32,
     "metadata": {},
     "output_type": "execute_result"
    }
   ],
   "source": [
    "sorted(d22['UPI Banks\\n'])"
   ]
  },
  {
   "cell_type": "code",
   "execution_count": 34,
   "id": "c92825d8",
   "metadata": {},
   "outputs": [],
   "source": [
    "d22['UPI Banks\\n'] = sorted(d22['UPI Banks\\n'])"
   ]
  },
  {
   "cell_type": "code",
   "execution_count": 36,
   "id": "6a56efb0",
   "metadata": {},
   "outputs": [
    {
     "data": {
      "text/plain": [
       "<seaborn.axisgrid.FacetGrid at 0x25424c2f340>"
      ]
     },
     "execution_count": 36,
     "metadata": {},
     "output_type": "execute_result"
    },
    {
     "data": {
      "image/png": "[encoded data removed]",
      "text/plain": [
       "<Figure size 563.125x360 with 1 Axes>"
      ]
     },
     "metadata": {
      "needs_background": "light"
     },
     "output_type": "display_data"
    }
   ],
   "source": [
    "sns.catplot(x='Volume (Mn) By Costumers\\n', y= 'Month',hue='UPI Banks\\n',kind='bar', data=d22 )"
   ]
  },
  {
   "cell_type": "code",
   "execution_count": 37,
   "id": "eeb1633f",
   "metadata": {},
   "outputs": [
    {
     "data": {
      "text/html": [
       "<div>\n",
       "<style scoped>\n",
       "    .dataframe tbody tr th:only-of-type {\n",
       "        vertical-align: middle;\n",
       "    }\n",
       "\n",
       "    .dataframe tbody tr th {\n",
       "        vertical-align: top;\n",
       "    }\n",
       "\n",
       "    .dataframe thead th {\n",
       "        text-align: right;\n",
       "    }\n",
       "</style>\n",
       "<table border=\"1\" class=\"dataframe\">\n",
       "  <thead>\n",
       "    <tr style=\"text-align: right;\">\n",
       "      <th></th>\n",
       "      <th>UPI Banks\\n</th>\n",
       "      <th>Volume (Mn) By Costumers\\n</th>\n",
       "      <th>Value (Cr) by Costumers\\n</th>\n",
       "      <th>Volume (Mn)\\n</th>\n",
       "      <th>Value (Cr)</th>\n",
       "      <th>Month</th>\n",
       "    </tr>\n",
       "  </thead>\n",
       "  <tbody>\n",
       "    <tr>\n",
       "      <th>0</th>\n",
       "      <td>AU Small Finance Bank App</td>\n",
       "      <td>8.53</td>\n",
       "      <td>2047.45</td>\n",
       "      <td>13.22</td>\n",
       "      <td>4729.77</td>\n",
       "      <td>1</td>\n",
       "    </tr>\n",
       "    <tr>\n",
       "      <th>1</th>\n",
       "      <td>AU Small Finance Bank App</td>\n",
       "      <td>0.02</td>\n",
       "      <td>7.36</td>\n",
       "      <td>0.02</td>\n",
       "      <td>7.36</td>\n",
       "      <td>1</td>\n",
       "    </tr>\n",
       "    <tr>\n",
       "      <th>2</th>\n",
       "      <td>AU Small Finance Bank Apps</td>\n",
       "      <td>73.50</td>\n",
       "      <td>6729.66</td>\n",
       "      <td>73.50</td>\n",
       "      <td>6729.66</td>\n",
       "      <td>1</td>\n",
       "    </tr>\n",
       "    <tr>\n",
       "      <th>3</th>\n",
       "      <td>AU Small Finance Bank Apps</td>\n",
       "      <td>0.23</td>\n",
       "      <td>81.15</td>\n",
       "      <td>0.23</td>\n",
       "      <td>81.15</td>\n",
       "      <td>1</td>\n",
       "    </tr>\n",
       "    <tr>\n",
       "      <th>4</th>\n",
       "      <td>AU Small Finance Bank Apps</td>\n",
       "      <td>6.78</td>\n",
       "      <td>1058.77</td>\n",
       "      <td>47.25</td>\n",
       "      <td>1093.02</td>\n",
       "      <td>1</td>\n",
       "    </tr>\n",
       "  </tbody>\n",
       "</table>\n",
       "</div>"
      ],
      "text/plain": [
       "                  UPI Banks\\n  Volume (Mn) By Costumers\\n  \\\n",
       "0   AU Small Finance Bank App                        8.53   \n",
       "1   AU Small Finance Bank App                        0.02   \n",
       "2  AU Small Finance Bank Apps                       73.50   \n",
       "3  AU Small Finance Bank Apps                        0.23   \n",
       "4  AU Small Finance Bank Apps                        6.78   \n",
       "\n",
       "   Value (Cr) by Costumers\\n  Volume (Mn)\\n  Value (Cr)  Month  \n",
       "0                    2047.45          13.22     4729.77      1  \n",
       "1                       7.36           0.02        7.36      1  \n",
       "2                    6729.66          73.50     6729.66      1  \n",
       "3                      81.15           0.23       81.15      1  \n",
       "4                    1058.77          47.25     1093.02      1  "
      ]
     },
     "execution_count": 37,
     "metadata": {},
     "output_type": "execute_result"
    }
   ],
   "source": [
    "d22.head()"
   ]
  },
  {
   "cell_type": "code",
   "execution_count": 46,
   "id": "677464a8",
   "metadata": {},
   "outputs": [
    {
     "name": "stderr",
     "output_type": "stream",
     "text": [
      "C:\\Users\\rages\\AppData\\Local\\Temp\\ipykernel_15144\\4171899647.py:1: FutureWarning: Indexing with multiple keys (implicitly converted to a tuple of keys) will be deprecated, use a list instead.\n",
      "  d22_banks = d22.groupby(['UPI Banks\\n', 'Month'], as_index=False)['Volume (Mn) By Costumers\\n', 'Value (Cr) by Costumers\\n', 'Value (Cr)', 'Volume (Mn)\\n'].agg('sum')\n"
     ]
    }
   ],
   "source": [
    "d22_banks = d22.groupby(['UPI Banks\\n', 'Month'], as_index=False)['Volume (Mn) By Costumers\\n', 'Value (Cr) by Costumers\\n', 'Value (Cr)', 'Volume (Mn)\\n'].agg('sum')\n",
    "d22_bubble = d22_banks.sort_values(by=['Value (Cr)'], ascending=False)\n",
    "\n"
   ]
  },
  {
   "cell_type": "code",
   "execution_count": 49,
   "id": "1d06e8ba",
   "metadata": {},
   "outputs": [
    {
     "data": {
      "text/plain": [
       "<seaborn.axisgrid.FacetGrid at 0x25444ee0e50>"
      ]
     },
     "execution_count": 49,
     "metadata": {},
     "output_type": "execute_result"
    },
    {
     "data": {
      "image/png": "[encoded data removed]",
      "text/plain": [
       "<Figure size 402.375x360 with 1 Axes>"
      ]
     },
     "metadata": {
      "needs_background": "light"
     },
     "output_type": "display_data"
    }
   ],
   "source": [
    "sns.relplot(x='Month', y='Value (Cr)', kind='scatter', hue='Month', data= d22_bubble)"
   ]
  },
  {
   "cell_type": "code",
   "execution_count": 51,
   "id": "85421cde",
   "metadata": {},
   "outputs": [],
   "source": [
    "d22_banks=df.to_csv('d2022_banks.csv') "
   ]
  },
  {
   "cell_type": "code",
   "execution_count": null,
   "id": "fa759143",
   "metadata": {},
   "outputs": [],
   "source": []
  }
 ],
 "metadata": {
  "kernelspec": {
   "display_name": "Python 3 (ipykernel)",
   "language": "python",
   "name": "python3"
  },
  "language_info": {
   "codemirror_mode": {
    "name": "ipython",
    "version": 3
   },
   "file_extension": ".py",
   "mimetype": "text/x-python",
   "name": "python",
   "nbconvert_exporter": "python",
   "pygments_lexer": "ipython3",
   "version": "3.9.12"
  }
 },
 "nbformat": 4,
 "nbformat_minor": 5
}
